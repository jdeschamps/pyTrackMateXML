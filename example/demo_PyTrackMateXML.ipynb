{
 "cells": [
  {
   "cell_type": "markdown",
   "id": "ff04f8bc",
   "metadata": {},
   "source": [
    "# Demo of pyTrackMateXML"
   ]
  },
  {
   "cell_type": "code",
   "execution_count": null,
   "id": "8ca0928e",
   "metadata": {},
   "outputs": [],
   "source": [
    "from pathlib import Path\n",
    "\n",
    "from matplotlib import pyplot as plt\n",
    "from trackmatexml import TrackmateXML"
   ]
  },
  {
   "cell_type": "markdown",
   "id": "b0fe52de",
   "metadata": {},
   "source": [
    "Load the file"
   ]
  },
  {
   "cell_type": "code",
   "execution_count": null,
   "id": "b8474534",
   "metadata": {},
   "outputs": [],
   "source": [
    "pth = Path(r\"C:\\mydemo.xml\")\n",
    "tmxml = TrackmateXML()\n",
    "tmxml.loadfile(pth)\n",
    "print(f\"the tracknames:{tmxml.tracknames}\")\n",
    "print(\" \")\n",
    "print(f\"the spotheader:{tmxml.spotheader}\")"
   ]
  },
  {
   "cell_type": "markdown",
   "id": "bdbc655c",
   "metadata": {},
   "source": [
    "Define the track and the property to plot"
   ]
  },
  {
   "cell_type": "code",
   "execution_count": null,
   "id": "9109a2d1",
   "metadata": {},
   "outputs": [],
   "source": [
    "trackname = \"Track_0\"\n",
    "propertyname = \"MEAN_INTENSITY01\""
   ]
  },
  {
   "cell_type": "markdown",
   "id": "40694fca",
   "metadata": {},
   "source": [
    "Analyse the tracks to get the spotids that belong to the track.\n",
    "\n",
    "`duplicate_split` will duplicate the history of the track at a split\n",
    "\n",
    "`break_split` will break the track at a split"
   ]
  },
  {
   "cell_type": "code",
   "execution_count": null,
   "id": "3628386c",
   "metadata": {},
   "outputs": [],
   "source": [
    "tracks = tmxml.analysetrack(trackname, duplicate_split=False, break_split=True)"
   ]
  },
  {
   "cell_type": "markdown",
   "id": "857cb81e",
   "metadata": {},
   "source": [
    "Get intensities and frame numbers "
   ]
  },
  {
   "cell_type": "code",
   "execution_count": null,
   "id": "015d8f5a",
   "metadata": {},
   "outputs": [],
   "source": [
    "intensities = [tmxml.getproperty(track[\"spotids\"], propertyname) for track in tracks]\n",
    "frames = [tmxml.getproperty(track[\"spotids\"], \"FRAME\") for track in tracks]"
   ]
  },
  {
   "cell_type": "markdown",
   "id": "f905be8d",
   "metadata": {},
   "source": [
    "Plot the result (`Child of 0` means it is has no parent.)"
   ]
  },
  {
   "cell_type": "code",
   "execution_count": null,
   "id": "f45ea8e1",
   "metadata": {},
   "outputs": [],
   "source": [
    "for i in range(len(frames)):\n",
    "    plt.plot(\n",
    "        frames[i],\n",
    "        intensities[i],\n",
    "        label=\"Cell \"\n",
    "        + str(tracks[i][\"cell\"])\n",
    "        + \" ; Child of \"\n",
    "        + str(tracks[i][\"parent\"]),\n",
    "    )\n",
    "plt.xlabel(\"frame\")\n",
    "plt.ylabel(propertyname)\n",
    "plt.legend()\n",
    "plt.title(trackname)"
   ]
  },
  {
   "cell_type": "markdown",
   "id": "bfb6eaa4",
   "metadata": {},
   "source": [
    "Plot tracks in subplots."
   ]
  },
  {
   "cell_type": "code",
   "execution_count": null,
   "id": "0ac6a546",
   "metadata": {},
   "outputs": [],
   "source": [
    "fig, axs = plt.subplots(len(frames), 1)\n",
    "fig.set_size_inches(5, 15)\n",
    "for i in range(len(frames)):\n",
    "    axs[i].plot(\n",
    "        frames[i],\n",
    "        intensities[i],\n",
    "        label=\"Cell \"\n",
    "        + str(tracks[i][\"cell\"])\n",
    "        + \" ; Child of \"\n",
    "        + str(tracks[i][\"parent\"]),\n",
    "    )\n",
    "    axs[i].set_xlabel(\"frame\")\n",
    "    axs[i].set_ylabel(propertyname)\n",
    "    axs[i].legend()\n",
    "    axs[i].set_title(trackname)"
   ]
  }
 ],
 "metadata": {
  "kernelspec": {
   "display_name": "Python 3 (ipykernel)",
   "language": "python",
   "name": "python3"
  },
  "language_info": {
   "codemirror_mode": {
    "name": "ipython",
    "version": 3
   },
   "file_extension": ".py",
   "mimetype": "text/x-python",
   "name": "python",
   "nbconvert_exporter": "python",
   "pygments_lexer": "ipython3",
   "version": "3.10.4"
  }
 },
 "nbformat": 4,
 "nbformat_minor": 5
}
